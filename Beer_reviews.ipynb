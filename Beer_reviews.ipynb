{
 "cells": [
  {
   "cell_type": "markdown",
   "metadata": {},
   "source": [
    "![alt-text](https://d26a57ydsghvgx.cloudfront.net/product/Customer%20Story%20Images/CIRCLES%20Logo%20Inline%20Colour.png)\n",
    "\n",
    "# Circles.Life Data Assignment\n",
    "\n",
    "By: Valerie Lim\n",
    "Date: 13 February 2018 \n",
    "Language: Python 3.6 "
   ]
  },
  {
   "cell_type": "code",
   "execution_count": 1,
   "metadata": {},
   "outputs": [],
   "source": [
    "# Set up current directory\n",
    "import os \n",
    "directory = \"C:\\\\Users\\\\valeriehy.lim\\\\Documents\\\\Google Admin\\\\Apps\\\\w Circles.Life\"\n",
    "os.chdir(directory)"
   ]
  },
  {
   "cell_type": "markdown",
   "metadata": {},
   "source": [
    "# Q1: Which brewery produces the strongest beers by % ABV?\n",
    "\n",
    "Assumptions:\n",
    "\n",
    "* Data for %ABV stored in `beer_abv` column \n",
    "* Each brewery produces many beers, therefore the *average* of all beers produced will be taken.  "
   ]
  },
  {
   "cell_type": "code",
   "execution_count": 2,
   "metadata": {
    "collapsed": true
   },
   "outputs": [],
   "source": [
    "import pandas as pd\n",
    "import numpy as np\n",
    "\n",
    "import seaborn as sns\n",
    "import matplotlib.cm as cm\n",
    "import matplotlib.pyplot as plt\n",
    "\n",
    "file = pd.read_csv(\"beer_reviews.csv\")"
   ]
  },
  {
   "cell_type": "code",
   "execution_count": 3,
   "metadata": {},
   "outputs": [
    {
     "data": {
      "text/html": [
       "<div>\n",
       "<style>\n",
       "    .dataframe thead tr:only-child th {\n",
       "        text-align: right;\n",
       "    }\n",
       "\n",
       "    .dataframe thead th {\n",
       "        text-align: left;\n",
       "    }\n",
       "\n",
       "    .dataframe tbody tr th {\n",
       "        vertical-align: top;\n",
       "    }\n",
       "</style>\n",
       "<table border=\"1\" class=\"dataframe\">\n",
       "  <thead>\n",
       "    <tr style=\"text-align: right;\">\n",
       "      <th></th>\n",
       "      <th>beer_abv</th>\n",
       "    </tr>\n",
       "    <tr>\n",
       "      <th>brewery_name</th>\n",
       "      <th></th>\n",
       "    </tr>\n",
       "  </thead>\n",
       "  <tbody>\n",
       "    <tr>\n",
       "      <th>Schorschbräu</th>\n",
       "      <td>19.228824</td>\n",
       "    </tr>\n",
       "    <tr>\n",
       "      <th>Shoes Brewery</th>\n",
       "      <td>15.200000</td>\n",
       "    </tr>\n",
       "    <tr>\n",
       "      <th>Rome Brewing Company</th>\n",
       "      <td>13.840000</td>\n",
       "    </tr>\n",
       "    <tr>\n",
       "      <th>Hurlimann Brewery</th>\n",
       "      <td>13.750000</td>\n",
       "    </tr>\n",
       "    <tr>\n",
       "      <th>Alt-Oberurseler Brauhaus</th>\n",
       "      <td>13.200000</td>\n",
       "    </tr>\n",
       "  </tbody>\n",
       "</table>\n",
       "</div>"
      ],
      "text/plain": [
       "                           beer_abv\n",
       "brewery_name                       \n",
       "Schorschbräu              19.228824\n",
       "Shoes Brewery             15.200000\n",
       "Rome Brewing Company      13.840000\n",
       "Hurlimann Brewery         13.750000\n",
       "Alt-Oberurseler Brauhaus  13.200000"
      ]
     },
     "execution_count": 3,
     "metadata": {},
     "output_type": "execute_result"
    }
   ],
   "source": [
    "output = file.groupby('brewery_name').aggregate({'beer_abv':'mean'}).sort_values('beer_abv', ascending = False)\n",
    "output.head(5)"
   ]
  },
  {
   "cell_type": "code",
   "execution_count": 4,
   "metadata": {},
   "outputs": [
    {
     "data": {
      "image/png": "[encoded data removed]",
      "text/plain": [
       "<matplotlib.figure.Figure at 0xcd22940>"
      ]
     },
     "metadata": {},
     "output_type": "display_data"
    }
   ],
   "source": [
    "# show only top 5 breweries in graph\n",
    "graph = output[0:5]\n",
    "ax = graph['beer_abv'].plot(kind='bar', title =\"Top Breweries by Highest % ABV\", \n",
    "                            figsize=(5, 3), legend=False, colormap='Paired')\n",
    "ax.set_xlabel(\"Beer Breweries\", fontsize=10)\n",
    "ax.set_ylabel(\"Alcohol By Volume(%)\", fontsize=10)\n",
    "plt.show()"
   ]
  },
  {
   "cell_type": "markdown",
   "metadata": {},
   "source": [
    "# Answer: Schorschbräu Brewery (19.2%)\n",
    "\n",
    "Note: Some breweries are missing information on `beer %ABV`."
   ]
  },
  {
   "cell_type": "markdown",
   "metadata": {},
   "source": [
    "# Q2: If you had to pick 3 beers to recommend using only this data, which would you pick?\n",
    "\n",
    "This is fun! \n",
    "\n",
    "Let's say I have three friends - I'd try to pick a beer suited for each of their 'personalities', and make up some funny filters along the way.\n",
    "\n",
    "1. The **milennial** - wants something 'edgy', actually knows nothing about beer, will probably instagram the bottle\n",
    "* The **hipster** - complains \"its too mainstream\" if too many people know about it, wants \"locally sourced\" or \"craft beers\"\n",
    "* The **\"anything is fine\"** pal - Not picky, wants a general crowd pleaser, secretly can't hold their alcohol"
   ]
  },
  {
   "cell_type": "markdown",
   "metadata": {},
   "source": [
    "![alt-text](https://d1ynl4hb5mx7r8.cloudfront.net/wp-content/uploads/2015/10/09164321/Beer_photograph.jpg)\n",
    "\n",
    "# Q2A: The Milennial\n",
    "\n",
    "* Wants something 'edgy'\n",
    "* Knows nothing about beer\n",
    "* Will instagram the bottle\n",
    "\n",
    "**Approach: I'd choose the bottle with an appearance score above 4.5/5.0 stars, followed by the worst taste (irony).**"
   ]
  },
  {
   "cell_type": "code",
   "execution_count": 5,
   "metadata": {},
   "outputs": [
    {
     "data": {
      "text/html": [
       "<div>\n",
       "<style>\n",
       "    .dataframe thead tr:only-child th {\n",
       "        text-align: right;\n",
       "    }\n",
       "\n",
       "    .dataframe thead th {\n",
       "        text-align: left;\n",
       "    }\n",
       "\n",
       "    .dataframe tbody tr th {\n",
       "        vertical-align: top;\n",
       "    }\n",
       "</style>\n",
       "<table border=\"1\" class=\"dataframe\">\n",
       "  <thead>\n",
       "    <tr style=\"text-align: right;\">\n",
       "      <th></th>\n",
       "      <th>review_taste</th>\n",
       "      <th>review_appearance</th>\n",
       "    </tr>\n",
       "    <tr>\n",
       "      <th>beer_beerid</th>\n",
       "      <th></th>\n",
       "      <th></th>\n",
       "    </tr>\n",
       "  </thead>\n",
       "  <tbody>\n",
       "    <tr>\n",
       "      <th>72084</th>\n",
       "      <td>1.0</td>\n",
       "      <td>5.0</td>\n",
       "    </tr>\n",
       "    <tr>\n",
       "      <th>71779</th>\n",
       "      <td>1.5</td>\n",
       "      <td>5.0</td>\n",
       "    </tr>\n",
       "    <tr>\n",
       "      <th>57292</th>\n",
       "      <td>2.0</td>\n",
       "      <td>5.0</td>\n",
       "    </tr>\n",
       "    <tr>\n",
       "      <th>72093</th>\n",
       "      <td>2.0</td>\n",
       "      <td>5.0</td>\n",
       "    </tr>\n",
       "    <tr>\n",
       "      <th>63794</th>\n",
       "      <td>2.0</td>\n",
       "      <td>5.0</td>\n",
       "    </tr>\n",
       "  </tbody>\n",
       "</table>\n",
       "</div>"
      ],
      "text/plain": [
       "             review_taste  review_appearance\n",
       "beer_beerid                                 \n",
       "72084                 1.0                5.0\n",
       "71779                 1.5                5.0\n",
       "57292                 2.0                5.0\n",
       "72093                 2.0                5.0\n",
       "63794                 2.0                5.0"
      ]
     },
     "execution_count": 5,
     "metadata": {},
     "output_type": "execute_result"
    }
   ],
   "source": [
    "milennial = file.groupby('beer_beerid').aggregate({'review_taste': 'mean', 'review_appearance': 'mean'})\n",
    "pretty_bottles = milennial[(milennial['review_appearance'] > 4.5)]\n",
    "pretty_bottles.sort_values(by='review_taste', ascending = True).head()"
   ]
  },
  {
   "cell_type": "markdown",
   "metadata": {},
   "source": [
    "### Wow 1.0 for taste? That's sad and hilarious. I'd take it. Let's see who it is:"
   ]
  },
  {
   "cell_type": "code",
   "execution_count": 6,
   "metadata": {},
   "outputs": [
    {
     "data": {
      "text/html": [
       "<div>\n",
       "<style>\n",
       "    .dataframe thead tr:only-child th {\n",
       "        text-align: right;\n",
       "    }\n",
       "\n",
       "    .dataframe thead th {\n",
       "        text-align: left;\n",
       "    }\n",
       "\n",
       "    .dataframe tbody tr th {\n",
       "        vertical-align: top;\n",
       "    }\n",
       "</style>\n",
       "<table border=\"1\" class=\"dataframe\">\n",
       "  <thead>\n",
       "    <tr style=\"text-align: right;\">\n",
       "      <th></th>\n",
       "      <th>brewery_id</th>\n",
       "      <th>brewery_name</th>\n",
       "      <th>review_time</th>\n",
       "      <th>review_overall</th>\n",
       "      <th>review_aroma</th>\n",
       "      <th>review_appearance</th>\n",
       "      <th>review_profilename</th>\n",
       "      <th>beer_style</th>\n",
       "      <th>review_palate</th>\n",
       "      <th>review_taste</th>\n",
       "      <th>beer_name</th>\n",
       "      <th>beer_abv</th>\n",
       "      <th>beer_beerid</th>\n",
       "    </tr>\n",
       "  </thead>\n",
       "  <tbody>\n",
       "    <tr>\n",
       "      <th>951874</th>\n",
       "      <td>16236</td>\n",
       "      <td>Guangdong Blue Ribbon Group</td>\n",
       "      <td>1313340782</td>\n",
       "      <td>2.0</td>\n",
       "      <td>5.0</td>\n",
       "      <td>5.0</td>\n",
       "      <td>woodychandler</td>\n",
       "      <td>Fruit / Vegetable Beer</td>\n",
       "      <td>3.0</td>\n",
       "      <td>1.0</td>\n",
       "      <td>Lanbei Pineapple Taste</td>\n",
       "      <td>NaN</td>\n",
       "      <td>72084</td>\n",
       "    </tr>\n",
       "  </tbody>\n",
       "</table>\n",
       "</div>"
      ],
      "text/plain": [
       "        brewery_id                 brewery_name  review_time  review_overall  \\\n",
       "951874       16236  Guangdong Blue Ribbon Group   1313340782             2.0   \n",
       "\n",
       "        review_aroma  review_appearance review_profilename  \\\n",
       "951874           5.0                5.0      woodychandler   \n",
       "\n",
       "                    beer_style  review_palate  review_taste  \\\n",
       "951874  Fruit / Vegetable Beer            3.0           1.0   \n",
       "\n",
       "                     beer_name  beer_abv  beer_beerid  \n",
       "951874  Lanbei Pineapple Taste       NaN        72084  "
      ]
     },
     "execution_count": 6,
     "metadata": {},
     "output_type": "execute_result"
    }
   ],
   "source": [
    "file[file['beer_beerid'] == 72084]"
   ]
  },
  {
   "cell_type": "markdown",
   "metadata": {},
   "source": [
    "![alt-text](https://encrypted-tbn0.gstatic.com/images?q=tbn:ANd9GcShxg8LlcucCroYA-GVWLbWKITkFM3JjGAlWCnFg6XwLK6cH1a25w)\n",
    "\n",
    "# Winner of shitty choice awards for prettiest bottle, with worst-tasting beer, goes to: the Fruit/Vegetable Beer, of Guang Dong Blue Ribbon Group! "
   ]
  },
  {
   "cell_type": "markdown",
   "metadata": {},
   "source": [
    "# Q2B: The hipster\n",
    "\n",
    "![alt-text](https://images.theconversation.com/files/46324/original/wp7yf4wc-1397450071.jpg \"darn hipsters!\")\n",
    "\n",
    "* Complains \"its too mainstream\" if too many people know about it\n",
    "* Wants \"locally sourced\" or \"craft beers\"\n",
    "\n",
    "**Approach: I'd select a beer with \"locally sourced\" or \"craft\" in its name, and that has less than 1,000 reviews, out of which still has the highest overall rating.**"
   ]
  },
  {
   "cell_type": "code",
   "execution_count": 7,
   "metadata": {},
   "outputs": [
    {
     "data": {
      "text/html": [
       "<div>\n",
       "<style>\n",
       "    .dataframe thead tr:only-child th {\n",
       "        text-align: right;\n",
       "    }\n",
       "\n",
       "    .dataframe thead th {\n",
       "        text-align: left;\n",
       "    }\n",
       "\n",
       "    .dataframe tbody tr th {\n",
       "        vertical-align: top;\n",
       "    }\n",
       "</style>\n",
       "<table border=\"1\" class=\"dataframe\">\n",
       "  <thead>\n",
       "    <tr style=\"text-align: right;\">\n",
       "      <th></th>\n",
       "      <th>brewery_id</th>\n",
       "      <th>brewery_name</th>\n",
       "      <th>review_time</th>\n",
       "      <th>review_overall</th>\n",
       "      <th>review_aroma</th>\n",
       "      <th>review_appearance</th>\n",
       "      <th>review_profilename</th>\n",
       "      <th>beer_style</th>\n",
       "      <th>review_palate</th>\n",
       "      <th>review_taste</th>\n",
       "      <th>beer_name</th>\n",
       "      <th>beer_abv</th>\n",
       "      <th>beer_beerid</th>\n",
       "    </tr>\n",
       "  </thead>\n",
       "  <tbody>\n",
       "    <tr>\n",
       "      <th>917091</th>\n",
       "      <td>2976</td>\n",
       "      <td>Pints Pub and Brewery and Freehouse</td>\n",
       "      <td>1221166499</td>\n",
       "      <td>4.0</td>\n",
       "      <td>3.5</td>\n",
       "      <td>3.5</td>\n",
       "      <td>Seanibus</td>\n",
       "      <td>American Blonde Ale</td>\n",
       "      <td>4.0</td>\n",
       "      <td>4.0</td>\n",
       "      <td>Bitchcraft Blonde</td>\n",
       "      <td>NaN</td>\n",
       "      <td>44824</td>\n",
       "    </tr>\n",
       "  </tbody>\n",
       "</table>\n",
       "</div>"
      ],
      "text/plain": [
       "        brewery_id                         brewery_name  review_time  \\\n",
       "917091        2976  Pints Pub and Brewery and Freehouse   1221166499   \n",
       "\n",
       "        review_overall  review_aroma  review_appearance review_profilename  \\\n",
       "917091             4.0           3.5                3.5           Seanibus   \n",
       "\n",
       "                 beer_style  review_palate  review_taste          beer_name  \\\n",
       "917091  American Blonde Ale            4.0           4.0  Bitchcraft Blonde   \n",
       "\n",
       "        beer_abv  beer_beerid  \n",
       "917091       NaN        44824  "
      ]
     },
     "execution_count": 7,
     "metadata": {},
     "output_type": "execute_result"
    }
   ],
   "source": [
    "file[file['beer_style'].str.contains(\"craft|local\")==True]\n",
    "file[file['beer_name'].str.contains(\"craft|local\")==True]"
   ]
  },
  {
   "cell_type": "markdown",
   "metadata": {},
   "source": [
    "### Wow... Seems like only ONE beer contains 'craft' its name - the Bitchcraft Blonde by American Blonde Ale company. So I guess this criteria to filter is out.\n",
    "\n",
    "I'll continue with selecting unknown beers for my hipster friend to try.\n"
   ]
  },
  {
   "cell_type": "code",
   "execution_count": 8,
   "metadata": {},
   "outputs": [
    {
     "data": {
      "text/html": [
       "<div>\n",
       "<style>\n",
       "    .dataframe thead tr:only-child th {\n",
       "        text-align: right;\n",
       "    }\n",
       "\n",
       "    .dataframe thead th {\n",
       "        text-align: left;\n",
       "    }\n",
       "\n",
       "    .dataframe tbody tr th {\n",
       "        vertical-align: top;\n",
       "    }\n",
       "</style>\n",
       "<table border=\"1\" class=\"dataframe\">\n",
       "  <thead>\n",
       "    <tr style=\"text-align: right;\">\n",
       "      <th></th>\n",
       "      <th>review_overall</th>\n",
       "    </tr>\n",
       "    <tr>\n",
       "      <th>beer_beerid</th>\n",
       "      <th></th>\n",
       "    </tr>\n",
       "  </thead>\n",
       "  <tbody>\n",
       "    <tr>\n",
       "      <th>56082</th>\n",
       "      <td>4.630952</td>\n",
       "    </tr>\n",
       "    <tr>\n",
       "      <th>36316</th>\n",
       "      <td>4.628205</td>\n",
       "    </tr>\n",
       "    <tr>\n",
       "      <th>16814</th>\n",
       "      <td>4.625800</td>\n",
       "    </tr>\n",
       "    <tr>\n",
       "      <th>41928</th>\n",
       "      <td>4.620536</td>\n",
       "    </tr>\n",
       "    <tr>\n",
       "      <th>21690</th>\n",
       "      <td>4.600000</td>\n",
       "    </tr>\n",
       "  </tbody>\n",
       "</table>\n",
       "</div>"
      ],
      "text/plain": [
       "             review_overall\n",
       "beer_beerid                \n",
       "56082              4.630952\n",
       "36316              4.628205\n",
       "16814              4.625800\n",
       "41928              4.620536\n",
       "21690              4.600000"
      ]
     },
     "execution_count": 8,
     "metadata": {},
     "output_type": "execute_result"
    }
   ],
   "source": [
    "beer_counts = file.groupby('beer_beerid').aggregate({'review_overall': 'count'})\n",
    "x = beer_counts[(beer_counts['review_overall'] < 1000) &\n",
    "                (beer_counts['review_overall'] > 100)] # let's be reasonable, your friend is not THAT hipster\n",
    "# This leaves 2883 beer types\n",
    "\n",
    "# Subset file with only the unknown beer names, between 100 - 1000 reviews exactly\n",
    "x.reset_index(level=0, inplace=True) \n",
    "top_beers = x['beer_beerid'].tolist()\n",
    "filtered = file[file['beer_beerid'].isin(top_beers)]\n",
    "scores = filtered.groupby('beer_beerid').aggregate({'review_overall': 'mean'})\n",
    "scores.sort_values(by='review_overall', ascending = False).head()"
   ]
  },
  {
   "cell_type": "code",
   "execution_count": 9,
   "metadata": {},
   "outputs": [
    {
     "data": {
      "text/html": [
       "<div>\n",
       "<style>\n",
       "    .dataframe thead tr:only-child th {\n",
       "        text-align: right;\n",
       "    }\n",
       "\n",
       "    .dataframe thead th {\n",
       "        text-align: left;\n",
       "    }\n",
       "\n",
       "    .dataframe tbody tr th {\n",
       "        vertical-align: top;\n",
       "    }\n",
       "</style>\n",
       "<table border=\"1\" class=\"dataframe\">\n",
       "  <thead>\n",
       "    <tr style=\"text-align: right;\">\n",
       "      <th></th>\n",
       "      <th>brewery_id</th>\n",
       "      <th>brewery_name</th>\n",
       "      <th>review_time</th>\n",
       "      <th>review_overall</th>\n",
       "      <th>review_aroma</th>\n",
       "      <th>review_appearance</th>\n",
       "      <th>review_profilename</th>\n",
       "      <th>beer_style</th>\n",
       "      <th>review_palate</th>\n",
       "      <th>review_taste</th>\n",
       "      <th>beer_name</th>\n",
       "      <th>beer_abv</th>\n",
       "      <th>beer_beerid</th>\n",
       "    </tr>\n",
       "  </thead>\n",
       "  <tbody>\n",
       "    <tr>\n",
       "      <th>334855</th>\n",
       "      <td>14064</td>\n",
       "      <td>Kern River Brewing Company</td>\n",
       "      <td>1282177258</td>\n",
       "      <td>4.0</td>\n",
       "      <td>4.0</td>\n",
       "      <td>4.0</td>\n",
       "      <td>beerwolf77</td>\n",
       "      <td>American Double / Imperial IPA</td>\n",
       "      <td>4.0</td>\n",
       "      <td>4.0</td>\n",
       "      <td>Citra DIPA</td>\n",
       "      <td>8.0</td>\n",
       "      <td>56082</td>\n",
       "    </tr>\n",
       "    <tr>\n",
       "      <th>334927</th>\n",
       "      <td>14064</td>\n",
       "      <td>Kern River Brewing Company</td>\n",
       "      <td>1314471420</td>\n",
       "      <td>4.5</td>\n",
       "      <td>4.5</td>\n",
       "      <td>4.0</td>\n",
       "      <td>zoolzoo</td>\n",
       "      <td>American Double / Imperial IPA</td>\n",
       "      <td>3.5</td>\n",
       "      <td>4.5</td>\n",
       "      <td>Citra DIPA</td>\n",
       "      <td>8.0</td>\n",
       "      <td>56082</td>\n",
       "    </tr>\n",
       "    <tr>\n",
       "      <th>334932</th>\n",
       "      <td>14064</td>\n",
       "      <td>Kern River Brewing Company</td>\n",
       "      <td>1314513820</td>\n",
       "      <td>4.5</td>\n",
       "      <td>4.5</td>\n",
       "      <td>4.0</td>\n",
       "      <td>IdrinkGas</td>\n",
       "      <td>American Double / Imperial IPA</td>\n",
       "      <td>4.0</td>\n",
       "      <td>4.5</td>\n",
       "      <td>Citra DIPA</td>\n",
       "      <td>8.0</td>\n",
       "      <td>56082</td>\n",
       "    </tr>\n",
       "    <tr>\n",
       "      <th>334933</th>\n",
       "      <td>14064</td>\n",
       "      <td>Kern River Brewing Company</td>\n",
       "      <td>1314503468</td>\n",
       "      <td>5.0</td>\n",
       "      <td>5.0</td>\n",
       "      <td>4.5</td>\n",
       "      <td>HuskyinPDX</td>\n",
       "      <td>American Double / Imperial IPA</td>\n",
       "      <td>4.5</td>\n",
       "      <td>4.5</td>\n",
       "      <td>Citra DIPA</td>\n",
       "      <td>8.0</td>\n",
       "      <td>56082</td>\n",
       "    </tr>\n",
       "    <tr>\n",
       "      <th>334934</th>\n",
       "      <td>14064</td>\n",
       "      <td>Kern River Brewing Company</td>\n",
       "      <td>1314483850</td>\n",
       "      <td>4.5</td>\n",
       "      <td>4.5</td>\n",
       "      <td>4.0</td>\n",
       "      <td>Kshock</td>\n",
       "      <td>American Double / Imperial IPA</td>\n",
       "      <td>4.5</td>\n",
       "      <td>4.5</td>\n",
       "      <td>Citra DIPA</td>\n",
       "      <td>8.0</td>\n",
       "      <td>56082</td>\n",
       "    </tr>\n",
       "  </tbody>\n",
       "</table>\n",
       "</div>"
      ],
      "text/plain": [
       "        brewery_id                brewery_name  review_time  review_overall  \\\n",
       "334855       14064  Kern River Brewing Company   1282177258             4.0   \n",
       "334927       14064  Kern River Brewing Company   1314471420             4.5   \n",
       "334932       14064  Kern River Brewing Company   1314513820             4.5   \n",
       "334933       14064  Kern River Brewing Company   1314503468             5.0   \n",
       "334934       14064  Kern River Brewing Company   1314483850             4.5   \n",
       "\n",
       "        review_aroma  review_appearance review_profilename  \\\n",
       "334855           4.0                4.0         beerwolf77   \n",
       "334927           4.5                4.0            zoolzoo   \n",
       "334932           4.5                4.0          IdrinkGas   \n",
       "334933           5.0                4.5         HuskyinPDX   \n",
       "334934           4.5                4.0             Kshock   \n",
       "\n",
       "                            beer_style  review_palate  review_taste  \\\n",
       "334855  American Double / Imperial IPA            4.0           4.0   \n",
       "334927  American Double / Imperial IPA            3.5           4.5   \n",
       "334932  American Double / Imperial IPA            4.0           4.5   \n",
       "334933  American Double / Imperial IPA            4.5           4.5   \n",
       "334934  American Double / Imperial IPA            4.5           4.5   \n",
       "\n",
       "         beer_name  beer_abv  beer_beerid  \n",
       "334855  Citra DIPA       8.0        56082  \n",
       "334927  Citra DIPA       8.0        56082  \n",
       "334932  Citra DIPA       8.0        56082  \n",
       "334933  Citra DIPA       8.0        56082  \n",
       "334934  Citra DIPA       8.0        56082  "
      ]
     },
     "execution_count": 9,
     "metadata": {},
     "output_type": "execute_result"
    }
   ],
   "source": [
    "# check out some reviews! \n",
    "file[file['beer_beerid']==56082].head()"
   ]
  },
  {
   "cell_type": "code",
   "execution_count": 10,
   "metadata": {},
   "outputs": [
    {
     "data": {
      "text/html": [
       "<div>\n",
       "<style>\n",
       "    .dataframe thead tr:only-child th {\n",
       "        text-align: right;\n",
       "    }\n",
       "\n",
       "    .dataframe thead th {\n",
       "        text-align: left;\n",
       "    }\n",
       "\n",
       "    .dataframe tbody tr th {\n",
       "        vertical-align: top;\n",
       "    }\n",
       "</style>\n",
       "<table border=\"1\" class=\"dataframe\">\n",
       "  <thead>\n",
       "    <tr style=\"text-align: right;\">\n",
       "      <th></th>\n",
       "      <th>beer_beerid</th>\n",
       "      <th>review_overall</th>\n",
       "    </tr>\n",
       "  </thead>\n",
       "  <tbody>\n",
       "    <tr>\n",
       "      <th>2640</th>\n",
       "      <td>56082</td>\n",
       "      <td>252</td>\n",
       "    </tr>\n",
       "  </tbody>\n",
       "</table>\n",
       "</div>"
      ],
      "text/plain": [
       "      beer_beerid  review_overall\n",
       "2640        56082             252"
      ]
     },
     "execution_count": 10,
     "metadata": {},
     "output_type": "execute_result"
    }
   ],
   "source": [
    "# how many people left a review\n",
    "x[x['beer_beerid']==56082]"
   ]
  },
  {
   "cell_type": "markdown",
   "metadata": {},
   "source": [
    "![alt-text](https://i.pinimg.com/736x/4e/26/b4/4e26b4daced0e7dc658ec6890c0dd6bf--cheap-beer-beer-brewing.jpg)\n",
    "\n",
    "# Answer: I'd recommend the Citra DIPA, an American Double / Imperial IPA, by Kern River Brewing Company.\n",
    "\n",
    "It has only 252 reviews, out of which, has an overall rating of 4.63 / 5.0 stars. Not explicitly a craft beer, but relatively unknown :-)"
   ]
  },
  {
   "cell_type": "markdown",
   "metadata": {},
   "source": [
    "![alt-text](https://global4cast.files.wordpress.com/2017/04/indecisive-2.jpeg)\n",
    "\n",
    "# Q2C: The \"anything is fine\" pal \n",
    "\n",
    "* Not picky, wants a general crowd pleaser - Beer should have many reviews\n",
    "* Secretly can't hold their alcohol - Beer should not have high % ABV\n",
    "\n",
    "**Approach: I'd pick the beer with the **highest total number of reviews** multiplied by the **highest total overall review score** (so that popular beers are balanced out by what people actually think of them), with **below 10% alcohol** (think that's a good place to start!).**"
   ]
  },
  {
   "cell_type": "code",
   "execution_count": 11,
   "metadata": {},
   "outputs": [
    {
     "data": {
      "text/html": [
       "<div>\n",
       "<style>\n",
       "    .dataframe thead tr:only-child th {\n",
       "        text-align: right;\n",
       "    }\n",
       "\n",
       "    .dataframe thead th {\n",
       "        text-align: left;\n",
       "    }\n",
       "\n",
       "    .dataframe tbody tr th {\n",
       "        vertical-align: top;\n",
       "    }\n",
       "</style>\n",
       "<table border=\"1\" class=\"dataframe\">\n",
       "  <thead>\n",
       "    <tr>\n",
       "      <th></th>\n",
       "      <th colspan=\"2\" halign=\"left\">review_overall</th>\n",
       "      <th>final_score</th>\n",
       "    </tr>\n",
       "    <tr>\n",
       "      <th></th>\n",
       "      <th>mean</th>\n",
       "      <th>count</th>\n",
       "      <th></th>\n",
       "    </tr>\n",
       "    <tr>\n",
       "      <th>beer_beerid</th>\n",
       "      <th></th>\n",
       "      <th></th>\n",
       "      <th></th>\n",
       "    </tr>\n",
       "  </thead>\n",
       "  <tbody>\n",
       "    <tr>\n",
       "      <th>2093</th>\n",
       "      <td>4.145745</td>\n",
       "      <td>3290</td>\n",
       "      <td>13639.5</td>\n",
       "    </tr>\n",
       "    <tr>\n",
       "      <th>412</th>\n",
       "      <td>4.174221</td>\n",
       "      <td>3111</td>\n",
       "      <td>12986.0</td>\n",
       "    </tr>\n",
       "    <tr>\n",
       "      <th>1904</th>\n",
       "      <td>4.168667</td>\n",
       "      <td>3000</td>\n",
       "      <td>12506.0</td>\n",
       "    </tr>\n",
       "    <tr>\n",
       "      <th>1093</th>\n",
       "      <td>4.329729</td>\n",
       "      <td>2728</td>\n",
       "      <td>11811.5</td>\n",
       "    </tr>\n",
       "    <tr>\n",
       "      <th>7971</th>\n",
       "      <td>4.590028</td>\n",
       "      <td>2527</td>\n",
       "      <td>11599.0</td>\n",
       "    </tr>\n",
       "  </tbody>\n",
       "</table>\n",
       "</div>"
      ],
      "text/plain": [
       "            review_overall       final_score\n",
       "                      mean count            \n",
       "beer_beerid                                 \n",
       "2093              4.145745  3290     13639.5\n",
       "412               4.174221  3111     12986.0\n",
       "1904              4.168667  3000     12506.0\n",
       "1093              4.329729  2728     11811.5\n",
       "7971              4.590028  2527     11599.0"
      ]
     },
     "execution_count": 11,
     "metadata": {},
     "output_type": "execute_result"
    }
   ],
   "source": [
    "output = file.groupby('beer_beerid').aggregate({'review_overall':['mean', 'count']})\n",
    "output['final_score'] = output[('review_overall', 'mean')] * output[('review_overall', 'count')]\n",
    "output.sort_values(by='final_score', ascending=False).head(5) "
   ]
  },
  {
   "cell_type": "code",
   "execution_count": 12,
   "metadata": {},
   "outputs": [
    {
     "data": {
      "text/html": [
       "<div>\n",
       "<style>\n",
       "    .dataframe thead tr:only-child th {\n",
       "        text-align: right;\n",
       "    }\n",
       "\n",
       "    .dataframe thead th {\n",
       "        text-align: left;\n",
       "    }\n",
       "\n",
       "    .dataframe tbody tr th {\n",
       "        vertical-align: top;\n",
       "    }\n",
       "</style>\n",
       "<table border=\"1\" class=\"dataframe\">\n",
       "  <thead>\n",
       "    <tr style=\"text-align: right;\">\n",
       "      <th></th>\n",
       "      <th>final_score</th>\n",
       "      <th>beer_name</th>\n",
       "      <th>brewery_name</th>\n",
       "      <th>beer_abv</th>\n",
       "      <th>beer_beerid</th>\n",
       "    </tr>\n",
       "    <tr>\n",
       "      <th>beer_beerid</th>\n",
       "      <th></th>\n",
       "      <th></th>\n",
       "      <th></th>\n",
       "      <th></th>\n",
       "      <th></th>\n",
       "    </tr>\n",
       "  </thead>\n",
       "  <tbody>\n",
       "    <tr>\n",
       "      <th>2093</th>\n",
       "      <td>13639.5</td>\n",
       "      <td>Hebridean Gold Porridge Oat Ale</td>\n",
       "      <td>Isle Of Skye Brewery</td>\n",
       "      <td>4.3</td>\n",
       "      <td>11709</td>\n",
       "    </tr>\n",
       "    <tr>\n",
       "      <th>412</th>\n",
       "      <td>12986.0</td>\n",
       "      <td>Caldera IPA</td>\n",
       "      <td>Caldera Brewing Company</td>\n",
       "      <td>6.1</td>\n",
       "      <td>10784</td>\n",
       "    </tr>\n",
       "    <tr>\n",
       "      <th>1904</th>\n",
       "      <td>12506.0</td>\n",
       "      <td>Swamp Fox IPA</td>\n",
       "      <td>Moon River Brewing Company</td>\n",
       "      <td>5.8</td>\n",
       "      <td>2725</td>\n",
       "    </tr>\n",
       "    <tr>\n",
       "      <th>1093</th>\n",
       "      <td>11811.5</td>\n",
       "      <td>Amstel Light</td>\n",
       "      <td>Amstel Brouwerij B. V.</td>\n",
       "      <td>3.5</td>\n",
       "      <td>436</td>\n",
       "    </tr>\n",
       "    <tr>\n",
       "      <th>7971</th>\n",
       "      <td>11599.0</td>\n",
       "      <td>Trafalgar Smoked Oatmeal Stout</td>\n",
       "      <td>Trafalgar Ales &amp; Meads</td>\n",
       "      <td>5.0</td>\n",
       "      <td>38552</td>\n",
       "    </tr>\n",
       "  </tbody>\n",
       "</table>\n",
       "</div>"
      ],
      "text/plain": [
       "             final_score                        beer_name  \\\n",
       "beer_beerid                                                 \n",
       "2093             13639.5  Hebridean Gold Porridge Oat Ale   \n",
       "412              12986.0                      Caldera IPA   \n",
       "1904             12506.0                    Swamp Fox IPA   \n",
       "1093             11811.5                     Amstel Light   \n",
       "7971             11599.0   Trafalgar Smoked Oatmeal Stout   \n",
       "\n",
       "                           brewery_name  beer_abv  beer_beerid  \n",
       "beer_beerid                                                     \n",
       "2093               Isle Of Skye Brewery       4.3        11709  \n",
       "412             Caldera Brewing Company       6.1        10784  \n",
       "1904         Moon River Brewing Company       5.8         2725  \n",
       "1093             Amstel Brouwerij B. V.       3.5          436  \n",
       "7971             Trafalgar Ales & Meads       5.0        38552  "
      ]
     },
     "execution_count": 12,
     "metadata": {},
     "output_type": "execute_result"
    }
   ],
   "source": [
    "# join this back to main file to get beer name, and pick out the next best beer with less than 10% alcohol\n",
    "\n",
    "# make this readable:\n",
    "subset1 = output[['final_score']]\n",
    "subset2 = file[['beer_name', 'brewery_name', 'beer_abv', 'beer_beerid']]\n",
    "\n",
    "# flatten multilevel index\n",
    "subset1.columns = subset1.columns.get_level_values(0)\n",
    "\n",
    "# join\n",
    "results = subset1.join(subset2, lsuffix='_clean', rsuffix='_org').sort_values(by='final_score', ascending=False)\n",
    "results.head()"
   ]
  },
  {
   "cell_type": "code",
   "execution_count": 13,
   "metadata": {},
   "outputs": [
    {
     "data": {
      "text/plain": [
       "review_overall  mean         4.145745\n",
       "                count     3290.000000\n",
       "final_score              13639.500000\n",
       "Name: 2093, dtype: float64"
      ]
     },
     "execution_count": 13,
     "metadata": {},
     "output_type": "execute_result"
    }
   ],
   "source": [
    "output.loc[2093]"
   ]
  },
  {
   "cell_type": "markdown",
   "metadata": {},
   "source": [
    "![alt-text](https://i.pinimg.com/564x/0c/cc/8a/0ccc8aa3ef8dda1003e20d21693d8869--porridge-oats-isle-of.jpg \"Hebridean Gold beer\")\n",
    "\n",
    "# Answer: I'd recommend the Hebridean Gold Porridge Oat Ale, from Isle Of Skye Brewery. \n",
    "\n",
    "It has an average rating of 4.14 out of 5 stars, as reviewed by over 3,000 people! It's also a comfy 4.3% ABV. "
   ]
  },
  {
   "cell_type": "markdown",
   "metadata": {},
   "source": [
    "#  Q3: Which of the factors (aroma, taste, appearance, palette) are most important in determining the overall quality of a beer?\n",
    "\n",
    "**I'll approach this question by building a linear regression model, since both independent and dependent variables are continuous data types.**"
   ]
  },
  {
   "cell_type": "markdown",
   "metadata": {},
   "source": [
    "![alt-text](https://i.imgflip.com/24hgyb.jpg \"Why can't you do something fancy?\")"
   ]
  },
  {
   "cell_type": "code",
   "execution_count": 14,
   "metadata": {},
   "outputs": [
    {
     "name": "stdout",
     "output_type": "stream",
     "text": [
      "Intercept            0.439578\n",
      "review_aroma         0.047809\n",
      "review_appearance    0.035891\n",
      "review_palate        0.258474\n",
      "review_taste         0.551530\n",
      "dtype: float64\n"
     ]
    }
   ],
   "source": [
    "import statsmodels.formula.api as sm\n",
    "result = sm.ols(formula=\"review_overall ~ review_aroma + review_appearance + review_palate + review_taste\", data=file).fit()\n",
    "print(result.params)"
   ]
  },
  {
   "cell_type": "code",
   "execution_count": 15,
   "metadata": {},
   "outputs": [
    {
     "name": "stdout",
     "output_type": "stream",
     "text": [
      "                            OLS Regression Results                            \n",
      "==============================================================================\n",
      "Dep. Variable:         review_overall   R-squared:                       0.658\n",
      "Model:                            OLS   Adj. R-squared:                  0.658\n",
      "Method:                 Least Squares   F-statistic:                 7.636e+05\n",
      "Date:                Wed, 14 Feb 2018   Prob (F-statistic):               0.00\n",
      "Time:                        22:10:37   Log-Likelihood:            -8.7999e+05\n",
      "No. Observations:             1586614   AIC:                         1.760e+06\n",
      "Df Residuals:                 1586609   BIC:                         1.760e+06\n",
      "Df Model:                           4                                         \n",
      "Covariance Type:            nonrobust                                         \n",
      "=====================================================================================\n",
      "                        coef    std err          t      P>|t|      [0.025      0.975]\n",
      "-------------------------------------------------------------------------------------\n",
      "Intercept             0.4396      0.002    190.949      0.000       0.435       0.444\n",
      "review_aroma          0.0478      0.001     66.089      0.000       0.046       0.049\n",
      "review_appearance     0.0359      0.001     51.287      0.000       0.035       0.037\n",
      "review_palate         0.2585      0.001    340.143      0.000       0.257       0.260\n",
      "review_taste          0.5515      0.001    709.782      0.000       0.550       0.553\n",
      "==============================================================================\n",
      "Omnibus:                    80797.422   Durbin-Watson:                   1.794\n",
      "Prob(Omnibus):                  0.000   Jarque-Bera (JB):           306869.451\n",
      "Skew:                          -0.074   Prob(JB):                         0.00\n",
      "Kurtosis:                       5.149   Cond. No.                         53.7\n",
      "==============================================================================\n",
      "\n",
      "Warnings:\n",
      "[1] Standard Errors assume that the covariance matrix of the errors is correctly specified.\n"
     ]
    }
   ],
   "source": [
    "print(result.summary())"
   ]
  },
  {
   "cell_type": "markdown",
   "metadata": {},
   "source": [
    "# Most important factor: Taste.\n",
    "\n",
    "`Overall Score = 0.44 a + 0.05 b + 0.26 c + 0.55 d`\n",
    "\n",
    "* a = aroma\n",
    "* b = appearance\n",
    "* c = palate\n",
    "* d = taste \n",
    "\n",
    "## The overall score of a beer appears to be decided by 55% taste, 26% palate, 4% aroma and 3% appearance. "
   ]
  },
  {
   "cell_type": "markdown",
   "metadata": {},
   "source": [
    "#  Q4: Lastly, if I typically enjoy a beer due to its aroma and appearance, which beer style should I try?\n",
    "\n",
    "I have two continuous variables predicting a categorical variable. Given the parameters, I'd try a **multinomial regression model**. \n",
    "\n",
    "I'm assuming that ultimately, when I predict which beer style I should try, `aroma = max value` and `appearance = max value`. "
   ]
  },
  {
   "cell_type": "code",
   "execution_count": 16,
   "metadata": {},
   "outputs": [
    {
     "data": {
      "text/html": [
       "<div>\n",
       "<style>\n",
       "    .dataframe thead tr:only-child th {\n",
       "        text-align: right;\n",
       "    }\n",
       "\n",
       "    .dataframe thead th {\n",
       "        text-align: left;\n",
       "    }\n",
       "\n",
       "    .dataframe tbody tr th {\n",
       "        vertical-align: top;\n",
       "    }\n",
       "</style>\n",
       "<table border=\"1\" class=\"dataframe\">\n",
       "  <thead>\n",
       "    <tr style=\"text-align: right;\">\n",
       "      <th></th>\n",
       "      <th>beer_style</th>\n",
       "      <th>review_aroma</th>\n",
       "      <th>review_appearance</th>\n",
       "      <th>review_overall</th>\n",
       "      <th>beer_name</th>\n",
       "    </tr>\n",
       "  </thead>\n",
       "  <tbody>\n",
       "    <tr>\n",
       "      <th>0</th>\n",
       "      <td>American Adjunct Lager</td>\n",
       "      <td>3.107143</td>\n",
       "      <td>3.142857</td>\n",
       "      <td>3.535714</td>\n",
       "      <td>14</td>\n",
       "    </tr>\n",
       "    <tr>\n",
       "      <th>1</th>\n",
       "      <td>American Amber / Red Ale</td>\n",
       "      <td>3.648760</td>\n",
       "      <td>3.851240</td>\n",
       "      <td>3.818182</td>\n",
       "      <td>121</td>\n",
       "    </tr>\n",
       "    <tr>\n",
       "      <th>2</th>\n",
       "      <td>American Barleywine</td>\n",
       "      <td>3.750000</td>\n",
       "      <td>3.666667</td>\n",
       "      <td>3.500000</td>\n",
       "      <td>6</td>\n",
       "    </tr>\n",
       "    <tr>\n",
       "      <th>3</th>\n",
       "      <td>American Blonde Ale</td>\n",
       "      <td>2.944444</td>\n",
       "      <td>3.388889</td>\n",
       "      <td>2.888889</td>\n",
       "      <td>9</td>\n",
       "    </tr>\n",
       "    <tr>\n",
       "      <th>4</th>\n",
       "      <td>American Double / Imperial IPA</td>\n",
       "      <td>3.666667</td>\n",
       "      <td>3.666667</td>\n",
       "      <td>3.000000</td>\n",
       "      <td>3</td>\n",
       "    </tr>\n",
       "  </tbody>\n",
       "</table>\n",
       "</div>"
      ],
      "text/plain": [
       "                       beer_style  review_aroma  review_appearance  \\\n",
       "0          American Adjunct Lager      3.107143           3.142857   \n",
       "1        American Amber / Red Ale      3.648760           3.851240   \n",
       "2             American Barleywine      3.750000           3.666667   \n",
       "3             American Blonde Ale      2.944444           3.388889   \n",
       "4  American Double / Imperial IPA      3.666667           3.666667   \n",
       "\n",
       "   review_overall  beer_name  \n",
       "0        3.535714         14  \n",
       "1        3.818182        121  \n",
       "2        3.500000          6  \n",
       "3        2.888889          9  \n",
       "4        3.000000          3  "
      ]
     },
     "execution_count": 16,
     "metadata": {},
     "output_type": "execute_result"
    }
   ],
   "source": [
    "# run on smaller sample due to size\n",
    "smallfile = file[0:1000] \n",
    "output = smallfile.groupby('beer_style').aggregate({'review_aroma':np.mean, \n",
    "         'review_appearance':np.mean, 'review_overall':np.mean, 'beer_name': 'count'})\n",
    "# keep beer styles as col, want to use it later to make colours\n",
    "output.reset_index(level=0, inplace=True) \n",
    "output['beer_style'] = output['beer_style'].astype('category')\n",
    "output.head()"
   ]
  },
  {
   "cell_type": "markdown",
   "metadata": {},
   "source": [
    "### Q4A: I'm curious - how does aroma and appearance weigh against the overall rating?"
   ]
  },
  {
   "cell_type": "code",
   "execution_count": 17,
   "metadata": {},
   "outputs": [
    {
     "data": {
      "image/png": "[encoded data removed]",
      "text/plain": [
       "<matplotlib.figure.Figure at 0xef23320>"
      ]
     },
     "metadata": {},
     "output_type": "display_data"
    }
   ],
   "source": [
    "colors=cm.rainbow(np.random.rand(100))\n",
    "plt.figure(figsize=(10,10))\n",
    "plt.scatter(x = output['review_aroma'],\n",
    "            y = output['review_appearance'],\n",
    "            s = output['review_overall'] ** 6, # size to show differences in ratings, doesn't appear to be much\n",
    "            color=colors)\n",
    "plt.title(\"Aroma vs. Appearance on Overall Score, of Beer Styles\")\n",
    "plt.show()"
   ]
  },
  {
   "cell_type": "markdown",
   "metadata": {},
   "source": [
    "### Q4B: I'm curious - do prettier beer bottles get significantly higher scores and more reviews too?\n",
    "\n",
    "#### Well yeah definitely! Bottles with highest appearance scores (vertical axis of graph) also tend to have best scores (horizontal axis) and most reviews (largest bubble size). "
   ]
  },
  {
   "cell_type": "code",
   "execution_count": 18,
   "metadata": {},
   "outputs": [
    {
     "data": {
      "image/png": "[encoded data removed]",
      "text/plain": [
       "<matplotlib.figure.Figure at 0xef354e0>"
      ]
     },
     "metadata": {},
     "output_type": "display_data"
    }
   ],
   "source": [
    "colors=cm.rainbow(np.random.rand(100))\n",
    "plt.figure(figsize=(10,10))\n",
    "plt.scatter(x = output['review_overall'],\n",
    "            y = output['review_appearance'],\n",
    "            s = output['beer_name'] ** 2, # size to show differences in ratings, doesn't appear to be much\n",
    "            color=colors)\n",
    "plt.title(\"Appearance on Overall Score and number of ratings, of Beer Styles\")\n",
    "plt.show()"
   ]
  },
  {
   "cell_type": "markdown",
   "metadata": {},
   "source": [
    "# Now for the original question - Which beer style should I try?"
   ]
  },
  {
   "cell_type": "code",
   "execution_count": 19,
   "metadata": {},
   "outputs": [
    {
     "name": "stderr",
     "output_type": "stream",
     "text": [
      "C:\\Users\\valeriehy.lim\\AppData\\Local\\Continuum\\anaconda3\\lib\\site-packages\\sklearn\\cross_validation.py:41: DeprecationWarning: This module was deprecated in version 0.18 in favor of the model_selection module into which all the refactored classes and functions are moved. Also note that the interface of the new CV iterators are different from that of this module. This module will be removed in 0.20.\n",
      "  \"This module will be removed in 0.20.\", DeprecationWarning)\n"
     ]
    }
   ],
   "source": [
    "from sklearn.linear_model import LogisticRegression\n",
    "from sklearn.cross_validation import train_test_split\n",
    "from sklearn import metrics"
   ]
  },
  {
   "cell_type": "code",
   "execution_count": 20,
   "metadata": {},
   "outputs": [],
   "source": [
    "# full file not run cos it's huge and my computer runs slower than a snail\n",
    "smallfile = file[0:10000]\n",
    "\n",
    "# improve readaility\n",
    "dependent = smallfile[['review_aroma', 'review_appearance']]\n",
    "independent = smallfile['beer_style']"
   ]
  },
  {
   "cell_type": "code",
   "execution_count": 21,
   "metadata": {},
   "outputs": [
    {
     "name": "stdout",
     "output_type": "stream",
     "text": [
      "Accuracy of logistic regression model:  22.3 %\n"
     ]
    }
   ],
   "source": [
    "X_train, X_test, y_train, y_test = train_test_split(dependent, independent, test_size=0.1)\n",
    "lr = LogisticRegression(multi_class='multinomial', solver ='newton-cg')\n",
    "lr.fit(X_train, y_train)\n",
    "data_test = pd.DataFrame(data=X_test, columns = ['f{}'.format(i) for i in range(1, 11)])\n",
    "data_test['y_test'] = y_test\n",
    "data_test['y_pred'] = lr.predict(X_test)\n",
    "\n",
    "# print accuracy\n",
    "accuracy = data_test.loc[data_test['y_test'] == data_test['y_pred']]\n",
    "print(\"Accuracy of logistic regression model: \", len(accuracy)/len(data_test)*100, \"%\")"
   ]
  },
  {
   "cell_type": "markdown",
   "metadata": {},
   "source": [
    "# Perhaps the multinomial model isn't predicting well because of noise. How much noise is there?"
   ]
  },
  {
   "cell_type": "code",
   "execution_count": 22,
   "metadata": {},
   "outputs": [
    {
     "data": {
      "text/plain": [
       "104"
      ]
     },
     "execution_count": 22,
     "metadata": {},
     "output_type": "execute_result"
    }
   ],
   "source": [
    "# Types of beer\n",
    "len(file['beer_style'].value_counts())"
   ]
  },
  {
   "cell_type": "code",
   "execution_count": 23,
   "metadata": {},
   "outputs": [
    {
     "data": {
      "text/plain": [
       "Lambic - Unblended                 1114\n",
       "Sahti                              1061\n",
       "Bière de Champagne / Bière Brut    1046\n",
       "Braggot                            1040\n",
       "English Pale Mild Ale               700\n",
       "Gose                                686\n",
       "Faro                                609\n",
       "Roggenbier                          466\n",
       "Kvass                               297\n",
       "Happoshu                            241\n",
       "Name: beer_style, dtype: int64"
      ]
     },
     "execution_count": 23,
     "metadata": {},
     "output_type": "execute_result"
    }
   ],
   "source": [
    "# Number of reviews of each:\n",
    "file['beer_style'].value_counts().tail(10)"
   ]
  },
  {
   "cell_type": "markdown",
   "metadata": {},
   "source": [
    "#### Answer: A lot of noise.\n",
    "\n",
    "#### We have 104 beer styles here, from 1.5M observations. However, the observations are not equally distributed as we saw above. The lowest categories (~1,000 reviews) have less than 0.0006% occurence.\n",
    "\n",
    "# Let's select only the best beers from the top 10 most popular categories.\n"
   ]
  },
  {
   "cell_type": "code",
   "execution_count": 24,
   "metadata": {},
   "outputs": [],
   "source": [
    "# Count beers\n",
    "beer_counts = file.groupby('beer_style').aggregate({'review_overall': 'count'})\n",
    "x = beer_counts.head(10) \n",
    "\n",
    "# OR, to filter for reviews > 10 000 instead, run this:\n",
    "# x = beer_counts[beer_counts['review_overall'] > 10000] \n",
    "\n",
    "x.reset_index(level=0, inplace=True) \n",
    "top_beers = x['beer_style'].tolist()\n",
    "filtered = file[file['beer_style'].isin(top_beers)]"
   ]
  },
  {
   "cell_type": "code",
   "execution_count": 25,
   "metadata": {},
   "outputs": [
    {
     "name": "stdout",
     "output_type": "stream",
     "text": [
      "Accuracy of logistic regression model:  43.73639191290824 %\n"
     ]
    }
   ],
   "source": [
    "# make df\n",
    "dependent = filtered[['review_aroma', 'review_appearance']]\n",
    "independent = filtered['beer_style']\n",
    "X_train, X_test, y_train, y_test = train_test_split(dependent, independent, test_size=0.1)\n",
    "\n",
    "# build log reg model\n",
    "lr = LogisticRegression(multi_class='multinomial', solver ='newton-cg')\n",
    "lr.fit(X_train, y_train)\n",
    "data_test = pd.DataFrame(data=X_test, columns = ['f{}'.format(i) for i in range(1, 11)])\n",
    "data_test['y_test'] = y_test\n",
    "data_test['y_pred'] = lr.predict(X_test)\n",
    "\n",
    "# print accuracy\n",
    "accuracy = data_test.loc[data_test['y_test'] == data_test['y_pred']]\n",
    "print(\"Accuracy of logistic regression model: \", len(accuracy)/len(data_test)*100, \"%\")"
   ]
  },
  {
   "cell_type": "markdown",
   "metadata": {},
   "source": [
    "#### The accuracy is still pretty low.\n",
    "\n",
    "#### This could be due to several reasons about the nature of the data and the question asked. I'll discuss my statistical assumptions in the reflections on this test below (section 5).\n",
    "\n",
    "# Moving forward, rather than use a logistic predictor model, I'd take a simple approach to find the best style of beer for someone who likes aroma and appearance. \n",
    "\n",
    "# I'm guessing they'd just want to find the best style with the highest rated aroma (ranked first) and then appearance (ranked second). "
   ]
  },
  {
   "cell_type": "code",
   "execution_count": 26,
   "metadata": {},
   "outputs": [
    {
     "data": {
      "text/html": [
       "<div>\n",
       "<style>\n",
       "    .dataframe thead tr:only-child th {\n",
       "        text-align: right;\n",
       "    }\n",
       "\n",
       "    .dataframe thead th {\n",
       "        text-align: left;\n",
       "    }\n",
       "\n",
       "    .dataframe tbody tr th {\n",
       "        vertical-align: top;\n",
       "    }\n",
       "</style>\n",
       "<table border=\"1\" class=\"dataframe\">\n",
       "  <thead>\n",
       "    <tr style=\"text-align: right;\">\n",
       "      <th></th>\n",
       "      <th>review_aroma</th>\n",
       "      <th>review_appearance</th>\n",
       "    </tr>\n",
       "    <tr>\n",
       "      <th>beer_style</th>\n",
       "      <th></th>\n",
       "      <th></th>\n",
       "    </tr>\n",
       "  </thead>\n",
       "  <tbody>\n",
       "    <tr>\n",
       "      <th>American Double / Imperial Stout</th>\n",
       "      <td>4.160665</td>\n",
       "      <td>4.163633</td>\n",
       "    </tr>\n",
       "    <tr>\n",
       "      <th>Eisbock</th>\n",
       "      <td>4.156778</td>\n",
       "      <td>3.964514</td>\n",
       "    </tr>\n",
       "    <tr>\n",
       "      <th>Quadrupel (Quad)</th>\n",
       "      <td>4.132533</td>\n",
       "      <td>4.117964</td>\n",
       "    </tr>\n",
       "    <tr>\n",
       "      <th>American Wild Ale</th>\n",
       "      <td>4.126756</td>\n",
       "      <td>4.005451</td>\n",
       "    </tr>\n",
       "    <tr>\n",
       "      <th>Lambic - Unblended</th>\n",
       "      <td>4.118043</td>\n",
       "      <td>3.912478</td>\n",
       "    </tr>\n",
       "  </tbody>\n",
       "</table>\n",
       "</div>"
      ],
      "text/plain": [
       "                                  review_aroma  review_appearance\n",
       "beer_style                                                       \n",
       "American Double / Imperial Stout      4.160665           4.163633\n",
       "Eisbock                               4.156778           3.964514\n",
       "Quadrupel (Quad)                      4.132533           4.117964\n",
       "American Wild Ale                     4.126756           4.005451\n",
       "Lambic - Unblended                    4.118043           3.912478"
      ]
     },
     "execution_count": 26,
     "metadata": {},
     "output_type": "execute_result"
    }
   ],
   "source": [
    "output = file.groupby('beer_style').aggregate({'review_aroma':'mean', 'review_appearance': 'mean'}).sort_values(['review_aroma', 'review_appearance'], ascending=[False, False])\n",
    "output.head(5)"
   ]
  },
  {
   "cell_type": "markdown",
   "metadata": {},
   "source": [
    "![alt-text](http://www.taptrail.com/wp-content/uploads/2015/10/ImpyStoutHeader1.jpg)\n",
    "\n",
    "# Answer: For someone who enjoys the Aroma and the Appearance of their beer, I'd recommend the American Double/ Imperial Stout style. \n",
    "\n",
    "--------\n",
    "\n",
    "# 5: Reflections & Assumptions\n",
    "\n",
    "While I'm dissatisfied that the data couldn't fit well into a logistic regression model for the last question, I think that this might be due to some aspects of the nature of this question:\n",
    "\n",
    "* High collinearity between the target variables in question (see table below, r > 0.5 for critical variables)\n",
    "* Too few target variables included within scope, always helps to allow more predictor variables :)\n",
    "* Too many nominal categories (>104) to predict for given the low probability of occurence for each\n",
    "* Weak linearity of independent variables with log odds"
   ]
  },
  {
   "cell_type": "code",
   "execution_count": 28,
   "metadata": {},
   "outputs": [
    {
     "data": {
      "text/html": [
       "<div>\n",
       "<style>\n",
       "    .dataframe thead tr:only-child th {\n",
       "        text-align: right;\n",
       "    }\n",
       "\n",
       "    .dataframe thead th {\n",
       "        text-align: left;\n",
       "    }\n",
       "\n",
       "    .dataframe tbody tr th {\n",
       "        vertical-align: top;\n",
       "    }\n",
       "</style>\n",
       "<table border=\"1\" class=\"dataframe\">\n",
       "  <thead>\n",
       "    <tr style=\"text-align: right;\">\n",
       "      <th></th>\n",
       "      <th>review_aroma</th>\n",
       "      <th>review_appearance</th>\n",
       "    </tr>\n",
       "  </thead>\n",
       "  <tbody>\n",
       "    <tr>\n",
       "      <th>review_aroma</th>\n",
       "      <td>1.000000</td>\n",
       "      <td>0.656671</td>\n",
       "    </tr>\n",
       "    <tr>\n",
       "      <th>review_appearance</th>\n",
       "      <td>0.656671</td>\n",
       "      <td>1.000000</td>\n",
       "    </tr>\n",
       "  </tbody>\n",
       "</table>\n",
       "</div>"
      ],
      "text/plain": [
       "                   review_aroma  review_appearance\n",
       "review_aroma           1.000000           0.656671\n",
       "review_appearance      0.656671           1.000000"
      ]
     },
     "execution_count": 28,
     "metadata": {},
     "output_type": "execute_result"
    }
   ],
   "source": [
    "dependent.corr()"
   ]
  },
  {
   "cell_type": "markdown",
   "metadata": {},
   "source": [
    "Overall, while I'm not sure if this question is asking me to build a classifier model, or to find the best category given two dimensions, I attempted both tasks and I hope I demonstrated what the test was looking for.\n",
    "\n",
    "\n",
    "# Overall, I really enjoyed this test and the story-telling opportunity that came with it! The data was fun to play with. I hope whoever who reviewing this has enjoyed reading it too. Thank you!"
   ]
  },
  {
   "cell_type": "markdown",
   "metadata": {},
   "source": [
    "Completed: 14th Feb 2018."
   ]
  }
 ],
 "metadata": {
  "kernelspec": {
   "display_name": "Python 3",
   "language": "python",
   "name": "python3"
  },
  "language_info": {
   "codemirror_mode": {
    "name": "ipython",
    "version": 3
   },
   "file_extension": ".py",
   "mimetype": "text/x-python",
   "name": "python",
   "nbconvert_exporter": "python",
   "pygments_lexer": "ipython3",
   "version": "3.6.3"
  }
 },
 "nbformat": 4,
 "nbformat_minor": 2
}
